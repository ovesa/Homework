{
 "cells": [
  {
   "cell_type": "code",
   "execution_count": 1,
   "metadata": {},
   "outputs": [],
   "source": [
    "import numpy as np\n",
    "%matplotlib inline\n",
    "import matplotlib.pyplot as plt"
   ]
  },
  {
   "cell_type": "markdown",
   "metadata": {},
   "source": [
    "let's say we want to generate random numbers for a \"right triangular\" PDF, i.e. $P(x) \\propto x$ for $x$ between 0 and 1, and zero everywhere else"
   ]
  },
  {
   "cell_type": "code",
   "execution_count": 2,
   "metadata": {},
   "outputs": [
    {
     "data": {
      "image/png": "[encoded data removed]",
      "text/plain": [
       "<Figure size 432x288 with 1 Axes>"
      ]
     },
     "metadata": {
      "needs_background": "light"
     },
     "output_type": "display_data"
    }
   ],
   "source": [
    "# plot to show the \"right triangular\" PDF\n",
    "x=[-1,0,1,1,2]\n",
    "y=[0,0,1,0,0]\n",
    "plt.plot(x,y)\n",
    "ticks=plt.yticks(y,' ')"
   ]
  },
  {
   "cell_type": "markdown",
   "metadata": {},
   "source": [
    "First, what is expression for the properly normalized PDF?"
   ]
  },
  {
   "cell_type": "markdown",
   "metadata": {},
   "source": [
    "<b>ANSWER HERE:</b> \n",
    "\n",
    "$\\int_0^1 P(x) dx = 1 $ \\\n",
    "$\\therefore P(x) = 2x$"
   ]
  },
  {
   "cell_type": "markdown",
   "metadata": {},
   "source": [
    "We will generate the random deviates using the transformation method. What is the expression for the cumulative distribution function $C(x)$?\n"
   ]
  },
  {
   "cell_type": "markdown",
   "metadata": {},
   "source": [
    "<b>ANSWER HERE:</b> \n",
    "\n",
    "$C(x) = \\int_0^x P(x') ~dx' = \\int_0^x 2x' ~dx' = x^2$"
   ]
  },
  {
   "cell_type": "markdown",
   "metadata": {},
   "source": [
    "What is the expression for the inverse of the CDF, i.e. given $0<y<1$, what is x?"
   ]
  },
  {
   "cell_type": "markdown",
   "metadata": {},
   "source": [
    "<B> ANSWER HERE: </B> \n",
    "\n",
    "$y = x^2$ \\\n",
    "$ \\therefore x = \\sqrt{y} = \\sqrt{C(x)} $"
   ]
  },
  {
   "cell_type": "markdown",
   "metadata": {},
   "source": [
    "Given this, write a routine to generate a random deviate in the desired function: generate a uniform deviate in the CDF, and transform it back to $x$"
   ]
  },
  {
   "cell_type": "code",
   "execution_count": 3,
   "metadata": {},
   "outputs": [],
   "source": [
    "def triangle(size) :\n",
    "    \"\"\" Generate size random deviates in a triangular PDF\"\"\"\n",
    "    \n",
    "    rands = np.random.uniform(0,1,size)\n",
    "    x = np.sqrt(rands)\n",
    "    return x\n",
    "\n"
   ]
  },
  {
   "cell_type": "markdown",
   "metadata": {},
   "source": [
    "Use your routine to generate samples with different sizes and plot the histograms to validate your routine"
   ]
  },
  {
   "cell_type": "code",
   "execution_count": 7,
   "metadata": {},
   "outputs": [
    {
     "data": {
      "image/png": "[encoded data removed]",
      "text/plain": [
       "<Figure size 432x288 with 1 Axes>"
      ]
     },
     "metadata": {
      "needs_background": "light"
     },
     "output_type": "display_data"
    }
   ],
   "source": [
    "#generate sample using your routine and plot histogram\n",
    "\n",
    "samp=triangle(size=1000)\n",
    "plt.hist(samp,bins=np.arange(0,1,0.01))\n",
    "plt.show()"
   ]
  },
  {
   "cell_type": "markdown",
   "metadata": {},
   "source": [
    "OK, how about a triangular PDF, i.e one that is proportional to x for 0<x<1, and proportional to -x for 1<x<2?"
   ]
  },
  {
   "cell_type": "code",
   "execution_count": 8,
   "metadata": {},
   "outputs": [
    {
     "data": {
      "image/png": "[encoded data removed]",
      "text/plain": [
       "<Figure size 432x288 with 1 Axes>"
      ]
     },
     "metadata": {
      "needs_background": "light"
     },
     "output_type": "display_data"
    }
   ],
   "source": [
    "# show the \"triangular\" PDF\n",
    "x=[-1,0,1,2,3]\n",
    "y=[0,0,1,0,0]\n",
    "plt.plot(x,y)\n",
    "ticks=plt.yticks(y,' ')"
   ]
  },
  {
   "cell_type": "markdown",
   "metadata": {},
   "source": [
    "Write the expression for the inverse of the cumulative distribution function\n"
   ]
  },
  {
   "cell_type": "markdown",
   "metadata": {},
   "source": [
    "<B> ANSWER HERE: </B> \n",
    "\n",
    "\n",
    "$\\int_0^2 P(x) dx =1$ \\\n",
    "$P(x) = x~ ;~0<x<1 $ \\\n",
    "$P(x) = 2-x~; ~1<x<2 $ \n",
    "\n",
    "$\\therefore C(x) =  \\frac{x^2}{2} ~; ~0<x<1 $ \n",
    "\n",
    "$ \\therefore C(x) =  2x - \\frac{x^2}{2} - 1 ~ ; ~1<x<2 $ \n",
    "\n",
    "$ x = \\sqrt{2y}  ~ ;~0<x<1 $ \n",
    "\n",
    "$ x = 2 \\pm \\sqrt{2-2y}  ~ ;~1<x<2 $\n",
    "\n",
    "\n",
    "\n",
    "    "
   ]
  },
  {
   "cell_type": "code",
   "execution_count": 13,
   "metadata": {},
   "outputs": [],
   "source": [
    "def triangle(size) :\n",
    "    \"\"\" routine to return random deviates in a triangular function\"\"\"\n",
    "\n",
    "    r = np.random.uniform(0,1,size)\n",
    "    lo, hi = np.where(r<0.5)[0], np.where(r>=0.5)[0]\n",
    "    \n",
    "    output = np.zeros(len(r))\n",
    "\n",
    "    output[lo] = np.sqrt(2*r[lo]) \n",
    "    output[hi] = 2 + np.sqrt(2 + 2*r[hi]) \n",
    "\n",
    " \n",
    "\n",
    "    return output\n"
   ]
  },
  {
   "cell_type": "code",
   "execution_count": 17,
   "metadata": {},
   "outputs": [
    {
     "data": {
      "image/png": "[encoded data removed]",
      "text/plain": [
       "<Figure size 432x288 with 1 Axes>"
      ]
     },
     "metadata": {
      "needs_background": "light"
     },
     "output_type": "display_data"
    }
   ],
   "source": [
    "#generate and plot your deviates\n",
    "samp=triangle(size= 1000) # fill in sample size\n",
    "plt.hist(samp,bins=np.arange(0,1,0.01)) # fill in bin sizes\n",
    "plt.show()"
   ]
  },
  {
   "cell_type": "markdown",
   "metadata": {},
   "source": [
    "Now, write a routine to generate samples from a power law distribution, e.g., for an initial mass function of the form $P(M)\\propto M^{-2.35}$ for $0.1 < M < 100$ (a Salpeter IMF). Start by getting the expressions for the normalized PDF, the CDF, and the inverse of the CDF"
   ]
  },
  {
   "cell_type": "markdown",
   "metadata": {},
   "source": [
    "<B> ANSWER HERE: </B>\n",
    "\n",
    "$\\int_{0.1}^{100} P(M') dM' =1$ \n",
    "\n",
    "$\\int_{0.1}^{100} AM'^{-1.35} dM' = 1$\n",
    "\n",
    "$\\therefore A =0.06 $\n",
    "\n",
    "$\\therefore P(M) = 0.06M^{-2.35}$\n",
    "\n",
    "\n",
    "$C(M) = \\int_0^M P(M') ~dM' = \\int_0^M 0.06M'^{-2.35} ~dM'$\n",
    "\n",
    "$\\therefore C(M) = 0.044M^{-1.35} $\n",
    "\n",
    "$ M = \\left( \\frac{C(M)}{0.044} \\right)^{\\frac{-1}{1.35}} $\n",
    "\n",
    "\n",
    "\n",
    "\n"
   ]
  },
  {
   "cell_type": "code",
   "execution_count": 26,
   "metadata": {},
   "outputs": [
    {
     "data": {
      "image/png": "[encoded data removed]",
      "text/plain": [
       "<Figure size 432x288 with 1 Axes>"
      ]
     },
     "metadata": {
      "needs_background": "light"
     },
     "output_type": "display_data"
    },
    {
     "data": {
      "image/png": "[encoded data removed]",
      "text/plain": [
       "<Figure size 432x288 with 1 Axes>"
      ]
     },
     "metadata": {
      "needs_background": "light"
     },
     "output_type": "display_data"
    }
   ],
   "source": [
    "def pdf(x) :\n",
    "    \"\"\"routine to return normalized Salpeter IMF given input mass\"\"\"  \n",
    "    \n",
    "    pdf  = 0.06*x**(-2.35)\n",
    "    return pdf\n",
    "   \n",
    "x=np.arange(0.1,100,0.1)\n",
    "\n",
    "plt.figure()\n",
    "plt.loglog(x,pdf(x))\n",
    "plt.show()\n",
    "\n",
    "def salpeter(size=1) :\n",
    "    \"\"\" routine to generate a sample drawn from Salpeter IMF of input size\"\"\"\n",
    "    r = np.random.uniform(0,1,size)\n",
    "    M = (r/0.044)**(-1/1.35)\n",
    "    return M\n",
    "    \n",
    "samp=salpeter(size=100)\n",
    "\n",
    "plt.figure()\n",
    "plt.hist(samp,bins=np.arange(0,1,0.01))\n",
    "plt.xscale('log')\n",
    "plt.yscale('log')\n",
    "plt.show()"
   ]
  },
  {
   "cell_type": "markdown",
   "metadata": {},
   "source": [
    "It is generally thought that the Salpeter IMF has too many faint stars. More realistic IMFs include those characterized by Kroupa et al, and by Chabrier et al. The Kroupa et al IMF is characterized by a 3-piece power law. The Chabrier IMF is charaterized by a lognormal distribution at masses less than a solar mass, and a power law above it. Write a routine to generate samples from one of these functions."
   ]
  },
  {
   "cell_type": "markdown",
   "metadata": {},
   "source": [
    "Kroupa IMF:\n",
    "\n",
    "$\\int P(M) dM =1$ \\\n",
    "$P(M) =  M^{-0.3} ~ ;~0.01 \\leq M<0.08 $ \\\n",
    "$P(M) = M^{-1.3}~ ; ~0.08 \\leq M<0.5 $ \\\n",
    "$P(M) = M^{-2.3}~ ;~ M \\geq 0.5$ \n",
    "\n",
    "$P(M) = \\int_{0.01}^{0.08} AM^{-0.3}~dM =[ A(1/0.7)M^{0.7} ]_{0.01}^{0.08} =1 $ \\\n",
    "$P(M) = -5.349M^{-0.3}$ \n",
    "\n",
    "\n",
    "\n",
    "CDF: \\\n",
    "$\\int_0^M P(M') dM'$ \n",
    "\n",
    "$C(M) = \\int_0^M  M'^{-0.3} ~ ;~0.01 \\leq M<0.08 $\n",
    "\n",
    "\n",
    "\n",
    "\n"
   ]
  },
  {
   "cell_type": "code",
   "execution_count": 30,
   "metadata": {},
   "outputs": [
    {
     "data": {
      "text/plain": [
       "-0.18694509028929948"
      ]
     },
     "execution_count": 30,
     "metadata": {},
     "output_type": "execute_result"
    }
   ],
   "source": [
    "(0.01**0.7)/0.7 - (0.08**0.7)/0.7"
   ]
  },
  {
   "cell_type": "code",
   "execution_count": 31,
   "metadata": {},
   "outputs": [
    {
     "data": {
      "text/plain": [
       "-5.349164283761021"
      ]
     },
     "execution_count": 31,
     "metadata": {},
     "output_type": "execute_result"
    }
   ],
   "source": [
    "1/-0.18694509028929948"
   ]
  },
  {
   "cell_type": "markdown",
   "metadata": {},
   "source": [
    "https://cds.cern.ch/record/486831/files/0102155.pdf"
   ]
  },
  {
   "cell_type": "code",
   "execution_count": null,
   "metadata": {},
   "outputs": [],
   "source": [
    "def kroupa(size):\n",
    "    \"\"\" routine to generate a sample drawn from Kroupa IMF of input size\"\"\"\n",
    "    r = np.random.uniform(0,1,size)\n",
    "    M = \n",
    "    return M\n",
    "    \n",
    "samp=kroupa(size=100)\n",
    " "
   ]
  },
  {
   "cell_type": "markdown",
   "metadata": {},
   "source": [
    "How about a routine to generate a galaxy luminosity using a Schechter luminosity function?"
   ]
  },
  {
   "cell_type": "markdown",
   "metadata": {},
   "source": [
    "https://www.astro.umd.edu/~richard/ASTRO620/LumFunction-pp.pdf"
   ]
  },
  {
   "cell_type": "code",
   "execution_count": 20,
   "metadata": {},
   "outputs": [],
   "source": [
    "def schechter_luminosity(phi_star,L,L_star,alpha):\n",
    "    func = (phi_star/L)*((L/L_star)^alpha)*np.exp(-L/L_star)\n",
    "    return func"
   ]
  },
  {
   "cell_type": "code",
   "execution_count": null,
   "metadata": {},
   "outputs": [],
   "source": []
  }
 ],
 "metadata": {
  "kernelspec": {
   "display_name": "Python 3",
   "language": "python",
   "name": "python3"
  },
  "language_info": {
   "codemirror_mode": {
    "name": "ipython",
    "version": 3
   },
   "file_extension": ".py",
   "mimetype": "text/x-python",
   "name": "python",
   "nbconvert_exporter": "python",
   "pygments_lexer": "ipython3",
   "version": "3.7.3"
  }
 },
 "nbformat": 4,
 "nbformat_minor": 4
}
