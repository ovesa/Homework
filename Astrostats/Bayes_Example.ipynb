{
 "cells": [
  {
   "cell_type": "code",
   "execution_count": 1,
   "metadata": {},
   "outputs": [],
   "source": [
    "import numpy as np\n",
    "%matplotlib inline\n",
    "import matplotlib.pyplot as plt"
   ]
  },
  {
   "cell_type": "markdown",
   "metadata": {},
   "source": [
    "let's generate a synthetic data set of measurements of some quantity that has some mean and variance, that we will want to try to determine from the data set\n"
   ]
  },
  {
   "cell_type": "code",
   "execution_count": 179,
   "metadata": {},
   "outputs": [
    {
     "data": {
      "text/plain": [
       "[<matplotlib.lines.Line2D at 0x1256f9d50>]"
      ]
     },
     "execution_count": 179,
     "metadata": {},
     "output_type": "execute_result"
    },
    {
     "data": {
      "image/png": "[encoded data removed]",
      "text/plain": [
       "<Figure size 432x288 with 1 Axes>"
      ]
     },
     "metadata": {
      "needs_background": "light"
     },
     "output_type": "display_data"
    }
   ],
   "source": [
    "# create a random distribution from input parameters m0, s0\n",
    "m0,s0=0,2   # your choice of input mean and standard deviation here!\n",
    "npts=10    # if we have a large number of points, we'll have to be careful about calculating\n",
    "           #  total probabilities, because they will be a very small number!\n",
    "y=np.random.normal(m0,s0,size=npts)\n",
    "plt.plot(y,'ro')\n"
   ]
  },
  {
   "cell_type": "markdown",
   "metadata": {},
   "source": [
    "We want to determine the mean and the standard deviation of the sample.\n",
    "\n",
    "First, let's use the standard statistical approach. Given a set of N measurements, what is the most likely value of the mean and the standard deviation? These are just the sample mean and sample standard deviation! \n",
    "\n",
    "Compute the values for your simulated data set:\n"
   ]
  },
  {
   "cell_type": "code",
   "execution_count": 173,
   "metadata": {},
   "outputs": [
    {
     "name": "stdout",
     "output_type": "stream",
     "text": [
      "sample mean:    0.341  sample standard deviation:    1.921\n"
     ]
    }
   ],
   "source": [
    "# code to compute sample mean and standard deviation here\n",
    "sample_mean = y.mean()\n",
    "sample_std = y.std(ddof=1)\n",
    "print('sample mean: {:8.3f}  sample standard deviation: {:8.3f}'.format(sample_mean,sample_std))"
   ]
  },
  {
   "cell_type": "markdown",
   "metadata": {},
   "source": [
    "What about the uncertainty on the sample mean? What is the standard result? \n"
   ]
  },
  {
   "cell_type": "code",
   "execution_count": 174,
   "metadata": {},
   "outputs": [
    {
     "name": "stdout",
     "output_type": "stream",
     "text": [
      "uncertainty in mean:    0.192\n"
     ]
    }
   ],
   "source": [
    "# expression for standard error of the mean\n",
    "sem=sample_std/np.sqrt(npts)\n",
    "print('uncertainty in mean: {:8.3f}'.format(sem))"
   ]
  },
  {
   "cell_type": "markdown",
   "metadata": {},
   "source": [
    "OK, now let's consider the Bayesian appproach to the problem. Here we want to determine the posterior probability distribution function for the mean and standard deviation of our data set.\n",
    "\n",
    "We will do so explicitly:\n",
    "$$P(\\mu,\\sigma | D) = {P(D|\\mu,\\sigma) P(\\mu,\\sigma) \\over P(D) }$$\n",
    "We are not able to calculate $P(D)$ so we will just do the numerator, but then require that it integrates to unity so that we have a proper posteriod distribution function.\n",
    "\n",
    "First, write the routine for the likelihood of our data set, given arbitrary $\\mu$,$\\sigma$. The probability of a single data point is:\n",
    "\n",
    "$$P(x_i|\\mu,\\sigma) = {1\\over \\sigma\\sqrt{2\\pi}} \\exp {-0.5(x_i-\\mu)^2\\over \\sigma^2}$$\n",
    "\n",
    "The probability of the full data set is just the product of the individual probabilities.\n",
    "\n",
    "Write a routine to return the likelihood of the data set. You may want to use the [numpy.prod()](https://docs.scipy.org/doc/numpy/reference/generated/numpy.prod.html) function.\n",
    "\n",
    "However, note for large npts, the likelihood will get extremely small, and you may run into numerical underflow problems, so you may want to consider a log(likelihood) routine"
   ]
  },
  {
   "cell_type": "code",
   "execution_count": 175,
   "metadata": {},
   "outputs": [],
   "source": [
    "def gauss(x,m,s) :\n",
    "    \"\"\" Gaussian function\"\"\"\n",
    "    return 1/np.sqrt(2*np.pi)/s * np.exp(-0.5*(x-m)**2/s**2)\n",
    "\n",
    "def L(y,m,s) :\n",
    "    \"\"\" Likelihood of full data set\n",
    "        y : input set of data points\n",
    "        m, s : trial mean and standard deviation to use\n",
    "    \"\"\"\n",
    "    # return the expression for the likelihood of the data set, which is the\n",
    "    #  product of the likelihoods of the individual data points for the input mean and standard deviation\n",
    "    return np.prod(gauss(y,m,s))\n",
    " \n",
    "# log-likelihood function for given data, mean, and standard deviation\n",
    "def logL(y,m,s) :\n",
    "    \"\"\"return the loglikelihood of the data set\"\"\"\n",
    "    # logL is a sum instead of a product\n",
    "    return np.sum(np.log(gauss(y,m,s)))"
   ]
  },
  {
   "cell_type": "markdown",
   "metadata": {},
   "source": [
    "To get the posterior PDF, we need to multiply the likelihood by the prior. What is an appropriate prior $P(\\mu,\\sigma$?\n",
    "$\\mu$ is a location parameter, so a flat prior is appropriate. $\\sigma$ is a scaling parameter, so a Jeffreys prior $P(\\sigma) \\propto {1\\over \\sigma}$ is appropriate"
   ]
  },
  {
   "cell_type": "code",
   "execution_count": 176,
   "metadata": {},
   "outputs": [],
   "source": [
    "#routine to return prior\n",
    "def prior(m,s) :\n",
    "    \"\"\" return prior for input mean and standard deviation \"\"\"\n",
    "    return 1/s"
   ]
  },
  {
   "cell_type": "markdown",
   "metadata": {},
   "source": [
    "Now calculate the posterior probability for a grid of mean and standard deviation"
   ]
  },
  {
   "cell_type": "code",
   "execution_count": 177,
   "metadata": {},
   "outputs": [],
   "source": [
    "# make a grid of L for various mean and sigma\n",
    "n=100\n",
    "# set appropriate ranges for your trial mean and standard deviation and create a grid over which\n",
    "#  you will compute the posterior\n",
    "mgrid=np.linspace(-3.,3.,n)\n",
    "sgrid=np.linspace(0.5,5,n)\n",
    "\n",
    "Ppdf=np.zeros([n,n])\n",
    "log_Ppdf=np.zeros([n,n])\n",
    "\n",
    "# fill the grid\n",
    "for ix,m in enumerate(mgrid) :\n",
    "    for iy,s in enumerate(sgrid) :\n",
    "        Ppdf[iy,ix] = L(y,m,s) * prior(m,s)\n",
    "        log_Ppdf[iy,ix] = logL(y,m,s) + np.log(prior(m,s))\n",
    "\n",
    "#if you are using a log(Ppdf), convert back to Ppdf, but after adding a constant to avoid underflow\n",
    "alt_Ppdf = np.exp(log_Ppdf - log_Ppdf.max())\n",
    "        "
   ]
  },
  {
   "cell_type": "markdown",
   "metadata": {},
   "source": [
    "Normalize the posterior PDF so that it sums to unity, and display it"
   ]
  },
  {
   "cell_type": "code",
   "execution_count": 178,
   "metadata": {},
   "outputs": [
    {
     "data": {
      "text/plain": [
       "<matplotlib.image.AxesImage at 0x1256dde50>"
      ]
     },
     "execution_count": 178,
     "metadata": {},
     "output_type": "execute_result"
    },
    {
     "data": {
      "image/png": "[encoded data removed]",
      "text/plain": [
       "<Figure size 432x288 with 1 Axes>"
      ]
     },
     "metadata": {
      "needs_background": "light"
     },
     "output_type": "display_data"
    },
    {
     "data": {
      "image/png": "[encoded data removed]",
      "text/plain": [
       "<Figure size 432x288 with 1 Axes>"
      ]
     },
     "metadata": {
      "needs_background": "light"
     },
     "output_type": "display_data"
    }
   ],
   "source": [
    "# normalize the likelihood to have an integral of unity\n",
    "Ppdf /= Ppdf.sum()\n",
    "alt_Ppdf /= alt_Ppdf.sum()\n",
    "\n",
    "plt.imshow(Ppdf)\n",
    "plt.figure()\n",
    "plt.imshow(alt_Ppdf)"
   ]
  },
  {
   "cell_type": "markdown",
   "metadata": {},
   "source": [
    "Now plot the marginal distributions for mean, and determine the \"1-sigma\" credible region by looking at the cumulative distribution function of the marginal distribution. You may want to use the [numpy.cumsum()](https://docs.scipy.org/doc/numpy/reference/generated/numpy.cumsum.html) function"
   ]
  },
  {
   "cell_type": "code",
   "execution_count": 153,
   "metadata": {},
   "outputs": [
    {
     "name": "stdout",
     "output_type": "stream",
     "text": [
      "credible interval:  -0.09393939393939393 0.027272727272727282\n"
     ]
    },
    {
     "data": {
      "image/png": "[encoded data removed]",
      "text/plain": [
       "<Figure size 432x288 with 1 Axes>"
      ]
     },
     "metadata": {
      "needs_background": "light"
     },
     "output_type": "display_data"
    },
    {
     "data": {
      "image/png": "[encoded data removed]",
      "text/plain": [
       "<Figure size 432x288 with 1 Axes>"
      ]
     },
     "metadata": {
      "needs_background": "light"
     },
     "output_type": "display_data"
    }
   ],
   "source": [
    "# get the marginal distribution function by marginalizing (summing) over the sigma axis\n",
    "mdf=Ppdf.sum(axis=0)\n",
    "plt.plot(mgrid,mdf)\n",
    "\n",
    "# get the cumulative distribution function of this to determined credible region\n",
    "cdf=mdf.cumsum()\n",
    "\n",
    "# determine the 1-sigma credible region, i.e. where cdf>0.16 and cdf<0.84\n",
    "cred=np.where((cdf>0.16)&(cdf<0.84))[0]\n",
    "xmin=mgrid[cred[0]]\n",
    "xmax=mgrid[cred[-1]]\n",
    "plt.plot([xmin,xmin],plt.ylim(),color='r')\n",
    "plt.plot([xmax,xmax],plt.ylim(),color='r')\n",
    "\n",
    "# overplot the sample mean and its uncertainty\n",
    "plt.plot([sample_mean,sample_mean],plt.ylim(),color='g')\n",
    "plt.plot([sample_mean-sem,sample_mean-sem],plt.ylim(),color='g',ls=':')\n",
    "plt.plot([sample_mean+sem,sample_mean+sem],plt.ylim(),color='g',ls=':')\n",
    "\n",
    "# plot the CDF\n",
    "plt.figure()\n",
    "plt.plot(mgrid,cdf)\n",
    "plt.plot([xmin,xmin],plt.ylim())\n",
    "plt.plot([xmax,xmax],plt.ylim())\n",
    "print('credible interval: ',xmin,xmax)"
   ]
  },
  {
   "cell_type": "markdown",
   "metadata": {},
   "source": [
    "And the same for the standard deviation:"
   ]
  },
  {
   "cell_type": "code",
   "execution_count": 154,
   "metadata": {},
   "outputs": [
    {
     "name": "stdout",
     "output_type": "stream",
     "text": [
      "credible interval:  1.974747474747475 2.0555555555555554\n"
     ]
    },
    {
     "data": {
      "image/png": "[encoded data removed]",
      "text/plain": [
       "<Figure size 432x288 with 1 Axes>"
      ]
     },
     "metadata": {
      "needs_background": "light"
     },
     "output_type": "display_data"
    },
    {
     "data": {
      "image/png": "[encoded data removed]",
      "text/plain": [
       "<Figure size 432x288 with 1 Axes>"
      ]
     },
     "metadata": {
      "needs_background": "light"
     },
     "output_type": "display_data"
    }
   ],
   "source": [
    "# get the marginal distribution function by marginalizing (summing) over the neab axis\n",
    "mdf=Ppdf.sum(axis=1)\n",
    "plt.plot(sgrid,mdf)\n",
    "\n",
    "# get the cumulative distribution function of this to determined credible region\n",
    "cdf=mdf.cumsum()\n",
    "cred=np.where((cdf>0.16)&(cdf<0.84))[0]\n",
    "xmin=sgrid[cred[0]]\n",
    "xmax=sgrid[cred[-1]]\n",
    "\n",
    "# overplot the sample standard deviation\n",
    "plt.plot([sample_std,sample_std],plt.ylim(),color='g')\n",
    "mean=(sgrid*mdf).sum()\n",
    "plt.plot([mean,mean],plt.ylim(),color='r')\n",
    "\n",
    "\n",
    "plt.figure()\n",
    "plt.plot(sgrid,cdf)\n",
    "\n",
    "# determine the 1-sigma credible region, i.e. where cdf>0.16 and cdf<0.84\n",
    "plt.plot([xmin,xmin],plt.ylim())\n",
    "\n",
    "plt.plot([xmax,xmax],plt.ylim())\n",
    "print('credible interval: ',xmin,xmax)"
   ]
  },
  {
   "cell_type": "code",
   "execution_count": null,
   "metadata": {},
   "outputs": [],
   "source": []
  },
  {
   "cell_type": "code",
   "execution_count": null,
   "metadata": {},
   "outputs": [],
   "source": []
  },
  {
   "cell_type": "code",
   "execution_count": null,
   "metadata": {},
   "outputs": [],
   "source": []
  }
 ],
 "metadata": {
  "kernelspec": {
   "display_name": "Python 3",
   "language": "python",
   "name": "python3"
  },
  "language_info": {
   "codemirror_mode": {
    "name": "ipython",
    "version": 3
   },
   "file_extension": ".py",
   "mimetype": "text/x-python",
   "name": "python",
   "nbconvert_exporter": "python",
   "pygments_lexer": "ipython3",
   "version": "3.7.4"
  }
 },
 "nbformat": 4,
 "nbformat_minor": 1
}
