{
 "cells": [
  {
   "cell_type": "code",
   "execution_count": 1,
   "metadata": {},
   "outputs": [],
   "source": [
    "import numpy as np\n",
    "%matplotlib inline\n",
    "import matplotlib.pyplot as plt"
   ]
  },
  {
   "cell_type": "markdown",
   "metadata": {},
   "source": [
    "We want to be able to experiment with expectation values for various estimators for different underlying populations.\n",
    "First, let's write a routine that returns the sample mean and variance for an input sample. Let's do this using numpy\n",
    "array arithmetic, but only using the sum() method. These should be calculated using:$\\bar x = {1\\over N} \\Sigma x_i$ and $\\sigma^2 = {1\\over N-1}\\Sigma (x_i-\\bar x)^2$. You have to fill in the missing code:"
   ]
  },
  {
   "cell_type": "code",
   "execution_count": 2,
   "metadata": {},
   "outputs": [],
   "source": [
    "def stats(sample) :\n",
    "    \"\"\" Return the sample mean and standard deviation of an input sample\"\"\"\n",
    "    # calculation of mean and variance here\n",
    "    n=len(sample)   #remove\n",
    "    mean=sample.sum()/n   #remove\n",
    "    variance=((sample**2).sum()-sample.sum()**2/n)/(n-1) #remove\n",
    "    \n",
    "    return mean, variance"
   ]
  },
  {
   "cell_type": "markdown",
   "metadata": {},
   "source": [
    "Let's now write a routine that will generate a sample of input size, with an option for using either a uniform or a Gaussian (normal) distribution. Here we will consider a uniform distribution with values distributed between 0 and 1, and a normal distribution with zero mean and unit standard deviation. Samples for these distributions can be generated using the numpy.random.uniform() function or the numpy.random.normal() function; you have to fill in the missing function calls:"
   ]
  },
  {
   "cell_type": "code",
   "execution_count": 3,
   "metadata": {},
   "outputs": [],
   "source": [
    "def getsample(size,uniform=True) :\n",
    "    \"\"\"Generate a sample of input size from a uniform distribution (0-1) \n",
    "       if uniform is True, else a normal distribution with zero mean\n",
    "       and unit standard deviation\n",
    "    \"\"\"\n",
    "    if uniform :\n",
    "        # np.random.uniform call here\n",
    "        sample=np.random.uniform(size=size)  #remove\n",
    "    else :\n",
    "        # np.random.normal call here\n",
    "        sample=np.random.normal(size=size)   #remove\n",
    "        \n",
    "    return sample"
   ]
  },
  {
   "cell_type": "markdown",
   "metadata": {},
   "source": [
    "Let's do a quick test of your routines. Generate a sample using the getsample() routine (test both uniform and normal), use stats() to get the mean and variance. Check the results using the numpy.mean() and numpy.std() methods on the samples (if you are not getting the same values, you have a problem!). Check the samples by looking at a histogram. Do this for both a uniform and a normal distribution. You have to choose the sample size and the distribution type, and set bins for the histogram accordingly:\n"
   ]
  },
  {
   "cell_type": "code",
   "execution_count": 4,
   "metadata": {},
   "outputs": [
    {
     "name": "stdout",
     "output_type": "stream",
     "text": [
      "calculated mean:    0.50   variance:  0.0823\n",
      "numpy mean:    0.50   variance  0.0822\n",
      "PROBLEM WITH VARIANCE? How does numpy compute variance by default?\n"
     ]
    },
    {
     "data": {
      "image/png": "[encoded data removed]",
      "text/plain": [
       "<Figure size 432x288 with 1 Axes>"
      ]
     },
     "metadata": {
      "needs_background": "light"
     },
     "output_type": "display_data"
    }
   ],
   "source": [
    "n= 1000    # choose a sample size here, remove value\n",
    "uniform=  True  #  boolean to set type of distribution here, remove value\n",
    "sample=getsample(n,uniform=uniform)\n",
    "xmin=0  # remove value\n",
    "xmax=1  # remove value\n",
    "delta=0.1  # remove value\n",
    "plt.hist(sample,bins=np.arange(xmin,xmax,delta))  # set appropriate bins here using xmin,xmax,delta\n",
    "mean,variance=stats(sample)\n",
    "print('calculated mean: {:7.2f}   variance: {:7.4f}'.format(mean,variance))\n",
    "print('numpy mean: {:7.2f}   variance {:7.4f}'.format(sample.mean(),sample.var()))\n",
    "if not np.isclose(sample.mean(),mean) : print('PROBLEM WITH MEAN!')\n",
    "if not np.isclose(sample.var(),variance) : print('PROBLEM WITH VARIANCE? How does numpy compute variance by default?')"
   ]
  },
  {
   "cell_type": "markdown",
   "metadata": {},
   "source": [
    "What did you learn about the numpy variance method (which is also true for the standard deviation method)?What do you think about your distributions and your estimators? How do they change with size of the sample?"
   ]
  },
  {
   "cell_type": "markdown",
   "metadata": {},
   "source": [
    "<B>ANSWER HERE:</B>: The numpy variance method by default calculates the variance as $\\sigma^2 = 1/N\\sum (x^2-\\bar x^2)$ which is biased, as it does not use (N-1). Need to specify ddof=1 to get correct behavior when using a sample mean. As for the distributions and estimators, they are noisier for smaller n and converge towards smooth distribution and fixed values of mean and variance as the sample size increases."
   ]
  },
  {
   "cell_type": "markdown",
   "metadata": {},
   "source": [
    "What are the true values of the mean and variance for a uniform distribution? Calculate them analytically.  Do you get these values exactly with your samples? Why or why not?"
   ]
  },
  {
   "cell_type": "markdown",
   "metadata": {},
   "source": [
    "<B>ANSWER HERE:</B> For $P(x) = 1$ for $x>0$ and $x<=1$, and 0 elsewhere, we have a normalized PDF. The mean is <br>\n",
    "$\\int x P(x) dx = {x^2\\over 2}|^1_0 = 1/2$.  <br>\n",
    "The variance is <br>\n",
    "$\\int (x-\\bar x)^2 dx = \\int x^2 dx - \\bar x^2 = 1/3 - 1/4 = 1/12$"
   ]
  },
  {
   "cell_type": "markdown",
   "metadata": {},
   "source": [
    "Experiment with running them multiple times, with different sample sizes, say from 10 points per sample to 1000 points per sample."
   ]
  },
  {
   "cell_type": "markdown",
   "metadata": {},
   "source": [
    "OK, now let's generate some expectation values. To do this, let's write a routine to generate a large number of samples (nsamp), each of size n, calculate the sample mean and variance for each, then average these together to get the expectation value. So, the expectation value of the mean is the \"mean mean\", and the expectation value of the variance is the \"mean variance\". Let's also calculate the \"mean standard deviation\". You hsve to fill in the expressions to calculate the expectation values:"
   ]
  },
  {
   "cell_type": "code",
   "execution_count": 5,
   "metadata": {},
   "outputs": [],
   "source": [
    "def expectations(nsamp,n,uniform=True) :\n",
    "    \"\"\" Calculate expectation values by drawing nsamp samples, each one with n members\n",
    "        and calculcating expectation values by averaging the statistics from each sample\n",
    "    \"\"\"\n",
    "    all_means=[]\n",
    "    all_variances=[]\n",
    "    all_std=[]\n",
    "    for i in range(nsamp) :\n",
    "        sample=getsample(n,uniform=uniform)\n",
    "        mean,variance=stats(sample)\n",
    "        all_means.append(mean)\n",
    "        all_variances.append(variance)\n",
    "        all_std.append(np.sqrt(variance))\n",
    "    all_means=np.array(all_means)\n",
    "    all_variances=np.array(all_variances)\n",
    "    all_std=np.array(all_std)\n",
    "    \n",
    "    expectation_mean=np.array(all_means).mean()     #remove expression\n",
    "    expectation_variance=np.array(all_variances).mean()  #remove expression\n",
    "    expectation_std=np.array(all_std).mean()   # remove expression\n",
    "    return expectation_mean,expectation_variance,expectation_std"
   ]
  },
  {
   "cell_type": "markdown",
   "metadata": {},
   "source": [
    "Do some tests of your routine:"
   ]
  },
  {
   "cell_type": "code",
   "execution_count": 6,
   "metadata": {},
   "outputs": [
    {
     "name": "stdout",
     "output_type": "stream",
     "text": [
      "0.48955705669701916 0.0882838294828178 0.2918086244499138\n"
     ]
    }
   ],
   "source": [
    "nsamp=100   # remove value\n",
    "n=10    #remove value\n",
    "m,v,s=expectations(nsamp,n)\n",
    "print(m,v,s)"
   ]
  },
  {
   "cell_type": "markdown",
   "metadata": {},
   "source": [
    "Try running this for a large number of samples, for a range of different sample sizes. Let's also look at the expectation value of the square root of the variance, which you might think is an estimator of the population standard deviation.\n",
    "Make plots of these expectation values as a function of sample size"
   ]
  },
  {
   "cell_type": "code",
   "execution_count": 12,
   "metadata": {},
   "outputs": [
    {
     "name": "stdout",
     "output_type": "stream",
     "text": [
      "0.4999180582634607 0.2886918883201706\n"
     ]
    },
    {
     "data": {
      "image/png": "[encoded data removed]",
      "text/plain": [
       "<Figure size 432x288 with 1 Axes>"
      ]
     },
     "metadata": {
      "needs_background": "light"
     },
     "output_type": "display_data"
    },
    {
     "data": {
      "image/png": "[encoded data removed]",
      "text/plain": [
       "<Figure size 432x288 with 1 Axes>"
      ]
     },
     "metadata": {
      "needs_background": "light"
     },
     "output_type": "display_data"
    },
    {
     "data": {
      "image/png": "[encoded data removed]",
      "text/plain": [
       "<Figure size 432x288 with 1 Axes>"
      ]
     },
     "metadata": {
      "needs_background": "light"
     },
     "output_type": "display_data"
    }
   ],
   "source": [
    "nsamp=10000\n",
    "sizes=[2,4,6,8,10,100,1000]*3\n",
    "all_expectation_mean=[]\n",
    "all_expectation_variance=[]\n",
    "all_expectation_std=[]\n",
    "for n in sizes :\n",
    "    m,v,s=expectations(nsamp,n)\n",
    "    all_expectation_mean.append(m)\n",
    "    all_expectation_variance.append(v)\n",
    "    all_expectation_std.append(s)\n",
    "    \n",
    "plt.plot(sizes,all_expectation_mean,'ro')\n",
    "plt.plot([0,1000],[0.5,0.5])\n",
    "plt.xscale('log')\n",
    "plt.figure()\n",
    "plt.plot(sizes,all_expectation_variance,'ro')\n",
    "plt.plot([0,1000],[1./12.,1./12.])\n",
    "plt.xscale('log')\n",
    "plt.figure()\n",
    "plt.plot(sizes,all_expectation_std,'ro')\n",
    "plt.plot([0,1000],np.sqrt([1./12.,1./12.]))\n",
    "plt.xscale('log')\n",
    "print(m,s)\n"
   ]
  },
  {
   "cell_type": "markdown",
   "metadata": {},
   "source": [
    "Are the expectation values of the mean, variance, and standard deviation biased or unbiased? Are they consistent (converge to correct value as n increases)?\n"
   ]
  },
  {
   "cell_type": "markdown",
   "metadata": {},
   "source": [
    "<B> ANSWER HERE: </B>: The mean and variance appear unbiased, but not the standard deviation. They all appear to be consistent."
   ]
  },
  {
   "cell_type": "markdown",
   "metadata": {},
   "source": [
    "OK, now lets consider the variance of the estimators. What do you expect for the standard deviation of the mean (standard error of the mean)?"
   ]
  },
  {
   "cell_type": "markdown",
   "metadata": {},
   "source": [
    "<B> ANSWER HERE:</B> The standard error of the mean is $\\sigma^2 / n$, so we expect it to decrease as $\\sqrt{1/n}$"
   ]
  },
  {
   "cell_type": "markdown",
   "metadata": {},
   "source": [
    "Let's calculate a bunch of means, and look at their spread and variance"
   ]
  },
  {
   "cell_type": "code",
   "execution_count": 8,
   "metadata": {},
   "outputs": [
    {
     "name": "stdout",
     "output_type": "stream",
     "text": [
      "0.02895350996827387\n"
     ]
    },
    {
     "data": {
      "image/png": "[encoded data removed]",
      "text/plain": [
       "<Figure size 432x288 with 1 Axes>"
      ]
     },
     "metadata": {
      "needs_background": "light"
     },
     "output_type": "display_data"
    }
   ],
   "source": [
    "def getmeans(nsamp=1000,n=100,uniform=True) :\n",
    "    \"\"\"return an array of sample means for input number of samples and sample sizes\n",
    "    \"\"\"\n",
    "    all_means=[]\n",
    "    for i in range(nsamp) :\n",
    "        sample=getsample(n,uniform=uniform)\n",
    "        mean,variance=stats(sample)\n",
    "        all_means.append(mean)\n",
    "    return np.array(all_means)\n",
    "\n",
    "all_means= getmeans(nsamp=1000,n=100,uniform=True)\n",
    "plt.hist(all_means)\n",
    "print(np.array(all_means).std())\n",
    " \n",
    "    "
   ]
  },
  {
   "cell_type": "markdown",
   "metadata": {},
   "source": [
    "How does the variance in the mean depend on the sample size? Calculate the standard deviation for a number of sample sizes, \n",
    "and plot as a function of sample size to check the behavior:"
   ]
  },
  {
   "cell_type": "code",
   "execution_count": 9,
   "metadata": {},
   "outputs": [
    {
     "data": {
      "text/plain": [
       "[<matplotlib.lines.Line2D at 0x1c274f0610>]"
      ]
     },
     "execution_count": 9,
     "metadata": {},
     "output_type": "execute_result"
    },
    {
     "data": {
      "image/png": "[encoded data removed]",
      "text/plain": [
       "<Figure size 432x288 with 1 Axes>"
      ]
     },
     "metadata": {
      "needs_background": "light"
     },
     "output_type": "display_data"
    }
   ],
   "source": [
    "# add code here\n",
    "sizes=np.array([2,4,6,8,10,50,100,200,500,1000])\n",
    "all=[]\n",
    "for size in sizes :\n",
    "    all.append(np.std(getmeans(n=size)))\n",
    "plt.plot(sizes,all,'ro')\n",
    "plt.plot(sizes,np.sqrt(1/12*1/sizes))\n",
    "        "
   ]
  },
  {
   "cell_type": "markdown",
   "metadata": {},
   "source": [
    "Standard error of the mean behaves as expected!"
   ]
  },
  {
   "cell_type": "markdown",
   "metadata": {},
   "source": [
    "What if you calculated the median instead of the mean? What would you expect for the standard deviation of the median as compared with that of the mean? As a function of sample size?"
   ]
  },
  {
   "cell_type": "markdown",
   "metadata": {},
   "source": [
    "<B>ANSWER HERE:</B> Expect that the median is less efficient, i.e. has a larger standard deviation. For a Gaussian, the expectation is that it is larger by pi/2., but this is a uniform distribution... But also expect that the standard deviation of the median will decrease with sample size."
   ]
  },
  {
   "cell_type": "markdown",
   "metadata": {},
   "source": [
    "Now do the same experiment for the median of each sample. Write a getmedians() routine like getmeans() above. You can use np.median(sample) instead of your stats routine to calculate the median of an individual sample. Make the plot of variances as a function of sample size."
   ]
  },
  {
   "cell_type": "code",
   "execution_count": 10,
   "metadata": {},
   "outputs": [
    {
     "data": {
      "text/plain": [
       "[<matplotlib.lines.Line2D at 0x1c27c1e190>]"
      ]
     },
     "execution_count": 10,
     "metadata": {},
     "output_type": "execute_result"
    },
    {
     "data": {
      "image/png": "[encoded data removed]",
      "text/plain": [
       "<Figure size 432x288 with 1 Axes>"
      ]
     },
     "metadata": {
      "needs_background": "light"
     },
     "output_type": "display_data"
    }
   ],
   "source": [
    "# add code here\n",
    "def getmedians(nsamp=1000,n=100,uniform=True) :\n",
    "    \"\"\"return an array of sample means for input number of samples and sample sizes\n",
    "    \"\"\"\n",
    "    all_medians=[]\n",
    "    for i in range(nsamp) :\n",
    "        sample=getsample(n,uniform=uniform)\n",
    "        all_medians.append(np.median(sample))\n",
    "    return np.array(all_medians)\n",
    "\n",
    "\n",
    "all_means=[]\n",
    "all_medians=[]\n",
    "for size in sizes :\n",
    "    all_means.append(np.std(getmeans(n=size)))\n",
    "    all_medians.append(np.std(getmedians(n=size)))\n",
    "plt.loglog(sizes,all_means,'ro')\n",
    "plt.loglog(sizes,all_medians,'bo')\n",
    "plt.loglog(sizes,np.sqrt(1/12*1/sizes))\n"
   ]
  },
  {
   "cell_type": "markdown",
   "metadata": {},
   "source": [
    "Did it come out as expected?"
   ]
  },
  {
   "cell_type": "markdown",
   "metadata": {},
   "source": [
    "<b> ANSWER HERE: </b> : Yes!"
   ]
  },
  {
   "cell_type": "markdown",
   "metadata": {},
   "source": [
    "You can continue with this for other estimators. What about the midrange estimator for the population mean? Sigma-clipped values? What about the \n",
    "mean absolute deviation for the population standard deviation?"
   ]
  },
  {
   "cell_type": "code",
   "execution_count": 11,
   "metadata": {},
   "outputs": [],
   "source": [
    "# open-ended code, analysis and discussion here!"
   ]
  },
  {
   "cell_type": "code",
   "execution_count": null,
   "metadata": {},
   "outputs": [],
   "source": []
  }
 ],
 "metadata": {
  "kernelspec": {
   "display_name": "Python 3",
   "language": "python",
   "name": "python3"
  },
  "language_info": {
   "codemirror_mode": {
    "name": "ipython",
    "version": 3
   },
   "file_extension": ".py",
   "mimetype": "text/x-python",
   "name": "python",
   "nbconvert_exporter": "python",
   "pygments_lexer": "ipython3",
   "version": "3.7.4"
  }
 },
 "nbformat": 4,
 "nbformat_minor": 2
}
