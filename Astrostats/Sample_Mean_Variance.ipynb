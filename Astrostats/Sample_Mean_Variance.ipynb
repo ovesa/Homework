{
 "cells": [
  {
   "cell_type": "code",
   "execution_count": 1,
   "metadata": {},
   "outputs": [],
   "source": [
    "import numpy as np\n",
    "%matplotlib inline\n",
    "import matplotlib.pyplot as plt"
   ]
  },
  {
   "cell_type": "markdown",
   "metadata": {},
   "source": [
    "We want to be able to experiment with expectation values for various estimators for different underlying populations.\n",
    "First, let's write a routine that returns the sample mean and variance for an input sample. Let's do this using numpy\n",
    "array arithmetic, but only using the sum() method. These should be calculated using:$\\bar x = {1\\over N} \\Sigma x_i$ and $\\sigma^2 = {1\\over N-1}\\Sigma (x_i-\\bar x)^2$. You have to fill in the missing code:"
   ]
  },
  {
   "cell_type": "code",
   "execution_count": 44,
   "metadata": {},
   "outputs": [],
   "source": [
    "def stats(sample) :\n",
    "    \"\"\" Return the sample mean and standard deviation of an input sample\"\"\"\n",
    "    # calculation of mean and variance here\n",
    "    n=len(sample)   \n",
    "    mean= sum(sample)/n\n",
    "    variance= sum((sample-mean)**2)/(n-1)\n",
    "    \n",
    "    return mean, variance"
   ]
  },
  {
   "cell_type": "markdown",
   "metadata": {},
   "source": [
    "Let's now write a routine that will generate a sample of input size, with an option for using either a uniform or a Gaussian (normal) distribution. Here we will consider a uniform distribution with values distributed between 0 and 1, and a normal distribution with zero mean and unit standard deviation. Samples for these distributions can be generated using the [numpy.random.uniform()](https://docs.scipy.org/doc/numpy-1.14.0/reference/generated/numpy.random.uniform.html) function or the [numpy.random.normal()](https://docs.scipy.org/doc/numpy-1.14.0/reference/generated/numpy.random.normal.ht) function; you have to fill in the missing function calls:"
   ]
  },
  {
   "cell_type": "code",
   "execution_count": 45,
   "metadata": {},
   "outputs": [],
   "source": [
    "def getsample(size,uniform) :\n",
    "    \"\"\"Generate a sample of input size from a uniform distribution (0-1) \n",
    "       if uniform is True, else a normal distribution with zero mean\n",
    "       and unit standard deviation\n",
    "    \"\"\"\n",
    "    if uniform :\n",
    "        sample = np.random.uniform(0,1,size)\n",
    "        \n",
    "    else :\n",
    "        sample = np.random.normal(0,1,size)\n",
    "             \n",
    "    return sample"
   ]
  },
  {
   "cell_type": "markdown",
   "metadata": {},
   "source": [
    "Let's do a quick test of your routines. Generate a sample using the getsample() routine (test both uniform and normal), use stats() to get the mean and variance. Check the results using the numpy.mean() and [numpy.var()](https://docs.scipy.org/doc/numpy/reference/generated/numpy.var.html) methods on the samples. Check the samples by looking at a histogram. Do this for both a uniform and a normal distribution. You have to choose the sample size and the distribution type, and set bins for the histogram accordingly:\n"
   ]
  },
  {
   "cell_type": "code",
   "execution_count": 48,
   "metadata": {},
   "outputs": [
    {
     "name": "stdout",
     "output_type": "stream",
     "text": [
      "calculated mean:    0.50   variance:  0.0844\n",
      "numpy mean:    0.50   numpy variance  0.0844\n"
     ]
    },
    {
     "data": {
      "image/png": "[encoded data removed]",
      "text/plain": [
       "<Figure size 432x288 with 1 Axes>"
      ]
     },
     "metadata": {
      "needs_background": "light"
     },
     "output_type": "display_data"
    }
   ],
   "source": [
    "n= 1000  # choose a sample size here\n",
    "uniform= True   #  boolean to set type of distribution here\n",
    "sample=getsample(n,uniform=uniform)\n",
    "xmin=0\n",
    "xmax=1\n",
    "delta=0.1\n",
    "plt.hist(sample,bins=np.arange(xmin,xmax,delta))  # set appropriate bins here using xmin,xmax,delta\n",
    "mean,variance=stats(sample)\n",
    "print('calculated mean: {:7.2f}   variance: {:7.4f}'.format(mean,variance))\n",
    "print('numpy mean: {:7.2f}   numpy variance {:7.4f}'.format(sample.mean(),sample.var()))\n",
    "if not np.isclose(sample.mean(),mean) : print('PROBLEM WITH MEAN!')\n",
    "#if not np.isclose(sample.var(ddof=0),variance) : print('PROBLEM WITH VARIANCE? How does numpy compute variance by default?')\n",
    "if not np.isclose(sample.var(ddof=1),variance) : print('PROBLEM WITH VARIANCE? How does numpy compute variance by default?')\n",
    "#print('np.mean:' + str(np.mean(sample)),'np.variance:' + str(np.var(sample,ddof=1)))"
   ]
  },
  {
   "cell_type": "markdown",
   "metadata": {},
   "source": [
    "Experiment with running this multiple times, with different sample sizes, say from 10 points per sample to 1000 points per sample. \n",
    "\n",
    "What did you learn about the numpy variance method (which is also true for the standard deviation method)?What do you think about your distributions and your estimators? How do they change with size of the sample?"
   ]
  },
  {
   "cell_type": "markdown",
   "metadata": {},
   "source": [
    "<B>ANSWER HERE:</B>   \n",
    "\n",
    "The numpy variance method calculates the biased variance (i.e, it does not have the (N-1) in the denominator). To make it an unbiased calculation of the variance, you need to add \"ddof=1\" as a keyword.\n",
    "\n",
    "For a uniform distribution, as you increase the size of the sample, the mean approaches 0.5 and the variance approaches 0.083. The histogram also shows that all of the bins approach the sample number.  I would say that the mean represents the actual mean of the distribution and is a good estimator of the distribution.\n",
    "\n",
    "For a normal distribution, it follows a Gaussian distribution. As you increase the samples, the mean approaches 0 and the variance approaches 1. Also, the distribution in the histogram appears skewed to the left in that most of the samples fall into the first bin at 0 and then it slowly decreases."
   ]
  },
  {
   "cell_type": "markdown",
   "metadata": {},
   "source": [
    "What are the true values of the mean and variance for a uniform distribution? Calculate them analytically.  Do you get these values exactly with your samples? Why or why not?"
   ]
  },
  {
   "cell_type": "markdown",
   "metadata": {},
   "source": [
    "<B>ANSWER HERE:</B>   \n",
    "\n",
    "If by \"true values\" you mean population values, then the mean should be u = sum(x)/N. By looking at the uniform distribution, one can see that the distribution seems close to equally distributed on both sides of the 0.5 bin. This means that the true mean is 0.5, which does match with the mean calculated above with the samples.  As for the variance, you can use o^2 = (x-u)^2/(n-1) or E(x^2) - [E(x)]^2 = sum(x_i)^2/N - (u)^2 = (x_f-x_i)^2/12. This would be 0.083, which does match with the number calculated above.\n",
    "\n",
    "This is because the mean will approach the true mean given a large number of samples. Because the variance involves the mean, this is true for the variance, as well.\n"
   ]
  },
  {
   "cell_type": "markdown",
   "metadata": {},
   "source": [
    "OK, now let's generate some expectation values. To do this, let's write a routine to generate a large number of samples (nsamp), each of size n, calculate the sample mean and variance for each, then average these together to get the expectation value. So, the expectation value of the mean is the \"mean mean\", and the expectation value of the variance is the \"mean variance\". Let's also calculate the \"mean standard deviation\". You have to fill in the expressions to calculate the expectation values:"
   ]
  },
  {
   "cell_type": "code",
   "execution_count": 90,
   "metadata": {},
   "outputs": [],
   "source": [
    "def expectations(nsamp,n,uniform=True) :\n",
    "    \"\"\" Calculate expectation values by drawing nsamp samples, each one with n members\n",
    "        and calculcating expectation values by averaging the statistics from each sample\n",
    "    \"\"\"\n",
    "    all_means=[]\n",
    "    all_variances=[]\n",
    "    all_std=[]\n",
    "    for i in range(nsamp) :\n",
    "        sample=getsample(n,uniform=uniform)\n",
    "        mean,variance=stats(sample)\n",
    "        all_means.append(mean)\n",
    "        all_variances.append(variance)\n",
    "        all_std.append(np.sqrt(variance))\n",
    "    all_means=np.array(all_means)\n",
    "    all_variances=np.array(all_variances)\n",
    "    all_std=np.array(all_std)\n",
    "    \n",
    "    expectation_mean= sum(all_means)/nsamp         #add expressions\n",
    "    expectation_variance= sum(all_variances)/(nsamp-1)\n",
    "    expectation_std= np.sqrt(expectation_variance)\n",
    "    \n",
    "    return expectation_mean,expectation_variance,expectation_std"
   ]
  },
  {
   "cell_type": "markdown",
   "metadata": {},
   "source": [
    "Do some tests of your routine:"
   ]
  },
  {
   "cell_type": "code",
   "execution_count": 91,
   "metadata": {},
   "outputs": [
    {
     "name": "stdout",
     "output_type": "stream",
     "text": [
      "0.5005682424683723 0.08267325726283675 0.28752957632709153\n"
     ]
    }
   ],
   "source": [
    "nsamp= 10000\n",
    "n= 2\n",
    "m,v,s=expectations(nsamp,n)\n",
    "print(m,v,s)"
   ]
  },
  {
   "cell_type": "markdown",
   "metadata": {},
   "source": [
    "Try running this for a large number of samples, for a range of different sample sizes. Make plots of these expectation values as a function of sample size"
   ]
  },
  {
   "cell_type": "code",
   "execution_count": 85,
   "metadata": {},
   "outputs": [
    {
     "name": "stdout",
     "output_type": "stream",
     "text": [
      "0.5000886940655834 0.0833591321332338 0.2887198159691049\n"
     ]
    },
    {
     "data": {
      "image/png": "[encoded data removed]",
      "text/plain": [
       "<Figure size 432x288 with 1 Axes>"
      ]
     },
     "metadata": {
      "needs_background": "light"
     },
     "output_type": "display_data"
    },
    {
     "data": {
      "image/png": "[encoded data removed]",
      "text/plain": [
       "<Figure size 432x288 with 1 Axes>"
      ]
     },
     "metadata": {
      "needs_background": "light"
     },
     "output_type": "display_data"
    },
    {
     "data": {
      "image/png": "[encoded data removed]",
      "text/plain": [
       "<Figure size 432x288 with 1 Axes>"
      ]
     },
     "metadata": {
      "needs_background": "light"
     },
     "output_type": "display_data"
    }
   ],
   "source": [
    "nsamp=10000\n",
    "sizes=[2,4,6,8,10,100,1000]\n",
    "all_expectation_mean=[]\n",
    "all_expectation_variance=[]\n",
    "all_expectation_std=[]\n",
    "for n in sizes :\n",
    "    m,v,s=expectations(nsamp,n)\n",
    "    all_expectation_mean.append(m)\n",
    "    all_expectation_variance.append(v)\n",
    "    all_expectation_std.append(s)\n",
    "\n",
    "plt.figure()\n",
    "plt.plot(sizes,all_expectation_mean,'ro')\n",
    "plt.xscale('log')\n",
    "plt.xlabel('Sizes')\n",
    "plt.ylabel('Expectation Mean')\n",
    "\n",
    "plt.figure()\n",
    "plt.plot(sizes,all_expectation_variance,'ro')\n",
    "plt.xscale('log')\n",
    "plt.xlabel('Sizes')\n",
    "plt.ylabel('Expectation Variance')\n",
    "\n",
    "plt.figure()\n",
    "plt.plot(sizes,all_expectation_std,'ro')\n",
    "plt.xscale('log')\n",
    "plt.xlabel('Sizes')\n",
    "plt.ylabel('Expectation STD')\n",
    "print(m,v,s)\n"
   ]
  },
  {
   "cell_type": "markdown",
   "metadata": {},
   "source": [
    "Are the expectation values of the mean, variance, and standard deviation biased or unbiased? Are they consistent (converge to correct value as n increases)?\n"
   ]
  },
  {
   "cell_type": "markdown",
   "metadata": {},
   "source": [
    "<B> ANSWER HERE: </B>\n",
    "\n",
    "The expectation values of the mean, variance, and standard deviation are unbiased because they show the true values given that you are using a large sample. Additionally, the expectation of the variance depends on the true mean, which is unbiased; thus, the variance and by extension the standard deviation would be unbiased as well. These values are consist and eventually do converge to the correct value as the sizes, n, increase of 0.5, 0.083, and 0.288, respectively. "
   ]
  },
  {
   "cell_type": "markdown",
   "metadata": {},
   "source": [
    "OK, now lets consider the variance of the estimators. What do you expect for the standard deviation of the mean (standard error of the mean)?"
   ]
  },
  {
   "cell_type": "markdown",
   "metadata": {},
   "source": [
    "<B> ANSWER HERE:</B>\n",
    "\n",
    "The standard deviation of the mean is the sample standard deviation divided by the square root of nsamp. The standard deviation of the mean shows the precision of our estimated mean.\n",
    "\n"
   ]
  },
  {
   "cell_type": "markdown",
   "metadata": {},
   "source": [
    "Let's calculate a bunch of means, and look at their spread and variance"
   ]
  },
  {
   "cell_type": "code",
   "execution_count": 103,
   "metadata": {},
   "outputs": [
    {
     "name": "stdout",
     "output_type": "stream",
     "text": [
      "0.029782967298775793\n"
     ]
    },
    {
     "data": {
      "image/png": "[encoded data removed]",
      "text/plain": [
       "<Figure size 432x288 with 1 Axes>"
      ]
     },
     "metadata": {
      "needs_background": "light"
     },
     "output_type": "display_data"
    },
    {
     "data": {
      "image/png": "[encoded data removed]",
      "text/plain": [
       "<Figure size 432x288 with 1 Axes>"
      ]
     },
     "metadata": {
      "needs_background": "light"
     },
     "output_type": "display_data"
    },
    {
     "data": {
      "image/png": "[encoded data removed]",
      "text/plain": [
       "<Figure size 432x288 with 1 Axes>"
      ]
     },
     "metadata": {
      "needs_background": "light"
     },
     "output_type": "display_data"
    }
   ],
   "source": [
    "def getmeans(nsamp,n,uniform=True) :\n",
    "    \"\"\"return an array of sample means for input number of samples and sample sizes\n",
    "    \"\"\"\n",
    "    all_means=[]\n",
    "    for i in range(nsamp) :\n",
    "        sample=getsample(n,uniform=uniform)\n",
    "        mean,variance=stats(sample)\n",
    "        all_means.append(mean)\n",
    "    return np.array(all_means)\n",
    "\n",
    "# experiment with different values of nsamp, n, uniform\n",
    "\n",
    "\n",
    "print(np.array(all_means).std())\n",
    "\n",
    "\n",
    "all_means2 = getmeans(nsamp=10,n=100,uniform=True);\n",
    "plt.figure()\n",
    "plt.hist(all_means2);\n",
    "plt.show()\n",
    "\n",
    "all_means3 = getmeans(nsamp=100,n=100,uniform=True);\n",
    "plt.figure()\n",
    "plt.hist(all_means3);\n",
    "plt.show()\n",
    "\n",
    "all_means= getmeans(nsamp=1000,n=100,uniform=True);\n",
    "plt.figure()\n",
    "plt.hist(all_means);\n",
    "plt.show()\n"
   ]
  },
  {
   "cell_type": "markdown",
   "metadata": {},
   "source": [
    "How does the variance in the mean depend on the sample size? Calculate the standard deviation for a number of sample sizes, \n",
    "and plot as a function of sample size to check the behavior:"
   ]
  },
  {
   "cell_type": "code",
   "execution_count": 104,
   "metadata": {},
   "outputs": [
    {
     "data": {
      "image/png": "[encoded data removed]",
      "text/plain": [
       "<Figure size 432x288 with 1 Axes>"
      ]
     },
     "metadata": {
      "needs_background": "light"
     },
     "output_type": "display_data"
    }
   ],
   "source": [
    "# add code here\n",
    "\n",
    "sizes=[2,4,6,8,10,50,100,500,1000,10000]\n",
    "means = []\n",
    "stds = []\n",
    "for n in sizes :\n",
    "    m = getmeans(nsamp=1000,n=n,uniform=True)\n",
    "    means.append(m)\n",
    "    stds.append(m.std())\n",
    "\n",
    "\n",
    "plt.figure()\n",
    "plt.plot(sizes,stds,'ro')\n",
    "plt.xscale('log')\n",
    "plt.xlabel('Sizes')\n",
    "plt.ylabel('Standard Deviation of the Mean')\n",
    "plt.show()\n"
   ]
  },
  {
   "cell_type": "markdown",
   "metadata": {},
   "source": [
    "What if you calculated the median instead of the mean? What would you expect for the standard deviation of the median as compared with that of the mean? As a function of sample size?"
   ]
  },
  {
   "cell_type": "markdown",
   "metadata": {},
   "source": [
    "<B>ANSWER HERE:</B>\n",
    "\n",
    "As sample size increases, the standard variance in the mean tends towards 0, which implies that for a large sample, we have a true estimate of the mean. The standard variance of the median would be similar to the plot above. I qouls expect that we would see a similar trend."
   ]
  },
  {
   "cell_type": "markdown",
   "metadata": {},
   "source": [
    "Now do the same experiment for the median of each sample. Write a getmedians() routine like getmeans() above. You can use np.median(sample) instead of your stats routine to calculate the median of an individual sample. Make the plot of variances as a function of sample size."
   ]
  },
  {
   "cell_type": "code",
   "execution_count": 107,
   "metadata": {},
   "outputs": [
    {
     "data": {
      "image/png": "[encoded data removed]",
      "text/plain": [
       "<Figure size 432x288 with 1 Axes>"
      ]
     },
     "metadata": {
      "needs_background": "light"
     },
     "output_type": "display_data"
    }
   ],
   "source": [
    "# add code here\n",
    "\n",
    "def getmedian(nsamp,n,uniform=True) :\n",
    "    \"\"\"return an array of sample medians for input number of samples and sample sizes\n",
    "    \"\"\"\n",
    "    all_medians=[]\n",
    "    for i in range(nsamp) :\n",
    "        sample=getsample(n,uniform=uniform)\n",
    "        median=np.median(sample)\n",
    "        all_medians.append(median)\n",
    "    return np.array(all_medians)\n",
    "\n",
    "\n",
    "sizes=[2,4,6,8,10,50,100,500,1000,10000]\n",
    "medians = []\n",
    "stds = []\n",
    "for n in sizes :\n",
    "    m = getmedian(nsamp=1000,n=n,uniform=True)\n",
    "    medians.append(m)\n",
    "    stds.append(m.std())\n",
    "\n",
    "\n",
    "plt.figure()\n",
    "plt.plot(sizes,stds,'ro')\n",
    "plt.xscale('log')\n",
    "plt.xlabel('Sizes')\n",
    "plt.ylabel('Standard Deviation of the Median')\n",
    "plt.show()\n",
    "\n",
    "\n"
   ]
  },
  {
   "cell_type": "markdown",
   "metadata": {},
   "source": [
    "Did it come out as expected?\n",
    "\n",
    "Yes,it did."
   ]
  },
  {
   "cell_type": "markdown",
   "metadata": {},
   "source": [
    "You can continue with this for other estimators. What about the midrange estimator for the population mean? Sigma-clipped values? What about the \n",
    "mean absolute deviation for the population standard deviation? or the interquartile range?"
   ]
  },
  {
   "cell_type": "code",
   "execution_count": null,
   "metadata": {},
   "outputs": [],
   "source": [
    "# open-ended code, analysis and discussion here!"
   ]
  },
  {
   "cell_type": "code",
   "execution_count": null,
   "metadata": {},
   "outputs": [],
   "source": []
  }
 ],
 "metadata": {
  "kernelspec": {
   "display_name": "Python 3",
   "language": "python",
   "name": "python3"
  },
  "language_info": {
   "codemirror_mode": {
    "name": "ipython",
    "version": 3
   },
   "file_extension": ".py",
   "mimetype": "text/x-python",
   "name": "python",
   "nbconvert_exporter": "python",
   "pygments_lexer": "ipython3",
   "version": "3.7.3"
  }
 },
 "nbformat": 4,
 "nbformat_minor": 4
}
